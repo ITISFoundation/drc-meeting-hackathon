{
 "cells": [
  {
   "cell_type": "code",
   "execution_count": null,
   "metadata": {},
   "outputs": [],
   "source": [
    "!pip install scipy"
   ]
  },
  {
   "cell_type": "code",
   "execution_count": null,
   "metadata": {},
   "outputs": [],
   "source": [
    "from scipy.io import loadmat\n",
    "import numpy as np\n",
    "\n",
    "from simcore_sdk import node_ports"
   ]
  },
  {
   "cell_type": "code",
   "execution_count": null,
   "metadata": {},
   "outputs": [],
   "source": [
    "# 1. Get data\n",
    "PORTS = node_ports.ports()\n",
    "rawdata_path = await PORTS.inputs[0].get()"
   ]
  },
  {
   "cell_type": "code",
   "execution_count": null,
   "metadata": {},
   "outputs": [],
   "source": [
    "# 2. Loads matlab file  as numpy\n",
    "rawdata = loadmat(rawdata_path)\n",
    "for key in rawdata:\n",
    "    print(key, rawdata[key])"
   ]
  },
  {
   "cell_type": "code",
   "execution_count": null,
   "metadata": {},
   "outputs": [],
   "source": [
    "# 3. Rearange everything in my dataset\n",
    "dataset = {}\n",
    "hf, lf, ti = rawdata['data_150715_r8'][0][0]\n",
    "\n",
    "axes = ('t', 'v', 'vf')\n",
    "dataset['hf'] = {name: hf[:, i] for i, name in enumerate(axes)}\n",
    "dataset['lf'] = {name: lf[:, i] for i, name in enumerate(axes)}\n",
    "dataset['ti'] = {name: ti[:, i] for i, name in enumerate(axes)}\n"
   ]
  },
  {
   "cell_type": "code",
   "execution_count": null,
   "metadata": {},
   "outputs": [],
   "source": [
    "np.save('dataset.npy', dataset)\n",
    "await PORTS.outputs[0].set('dataset.npy')"
   ]
  }
 ],
 "metadata": {
  "kernelspec": {
   "display_name": "Python 3",
   "language": "python",
   "name": "python3"
  },
  "language_info": {
   "codemirror_mode": {
    "name": "ipython",
    "version": 3
   },
   "file_extension": ".py",
   "mimetype": "text/x-python",
   "name": "python",
   "nbconvert_exporter": "python",
   "pygments_lexer": "ipython3",
   "version": "3.6.5"
  }
 },
 "nbformat": 4,
 "nbformat_minor": 2
}
